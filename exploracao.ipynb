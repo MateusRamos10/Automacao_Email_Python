{
 "cells": [
  {
   "cell_type": "markdown",
   "metadata": {},
   "source": [
    "# Encontrar E-mail"
   ]
  },
  {
   "cell_type": "markdown",
   "metadata": {},
   "source": [
    "#### Imports"
   ]
  },
  {
   "cell_type": "code",
   "execution_count": 289,
   "metadata": {},
   "outputs": [],
   "source": [
    "# Imports\n",
    "\n",
    "from imap_tools import MailBox, AND\n",
    "from pandas import DataFrame as df\n",
    "import pandas as pd\n",
    "from io import BytesIO\n",
    "from datetime import datetime"
   ]
  },
  {
   "cell_type": "markdown",
   "metadata": {},
   "source": [
    "#### Aceso Email"
   ]
  },
  {
   "cell_type": "code",
   "execution_count": 344,
   "metadata": {},
   "outputs": [],
   "source": [
    "# Loga no Email\n",
    "\n",
    "# https://www.systoolsgroup.com/imap/\n",
    "# imap-mail.outlook.com\n",
    "# usuario = \"mateusramos.oficial@gmail.com\"\n",
    "# senha = \"cejs pbde cfqn uwnt\"\n",
    "\n",
    "usuario = input(\"Digite seu email: \")\n",
    "senha = input(\"Digite sua senha: \")\n",
    "\n",
    "# meu_email = MailBox(\"imap.gmail.com\").login(usuario, senha)\n",
    "meu_email = MailBox(\"imap-mail.outlook.com\").login(usuario, senha)\n"
   ]
  },
  {
   "cell_type": "markdown",
   "metadata": {},
   "source": [
    "#### Encontra Destinatário Específico\n",
    "\n",
    "* Coloca E-mail's em uma lista<br>\n",
    "* Titulo Email - Data - Tem Anexo - Conteudo Anexo\n"
   ]
  },
  {
   "cell_type": "code",
   "execution_count": 345,
   "metadata": {},
   "outputs": [],
   "source": [
    "# Filtra email com destinatário específico e com assunto específico.\n",
    "# Armazena a quantidade de e-mails retornados\n",
    "# quantidade_emails = print(len(list((lista_emails))))\n",
    "\n",
    "destinatario = input(\"Digite o Email do Destinatáio: \")\n",
    "assunto = input(\"Digite o assunto para filtrar: \")\n",
    "\n",
    "# lista_emails = meu_email.fetch(AND(from_='brunacamsilva@gmail.com', subject='Python'))\n",
    "lista_emails = meu_email.fetch(AND(from_=destinatario, subject=assunto))\n",
    "\n",
    "lista_cabecalho = []\n",
    "\n",
    "for email in lista_emails:\n",
    "    # print(f\"{email.subject} - {email.date}\")\n",
    "    titulo_email = f\"{email.subject}\"\n",
    "    data = f\"{email.date}\"\n",
    "\n",
    "    if email.attachments:\n",
    "        for anexo in email.attachments:\n",
    "            # print( f\"{anexo.filename}\" )\n",
    "            anexo_titulo = f\"{anexo.filename}\"\n",
    "            anexo_conteudo = anexo.payload\n",
    "            \n",
    "            lista_cabecalho.append((titulo_email, data, anexo_titulo, anexo_conteudo))\n",
    "    \n",
    "    else:\n",
    "        lista_cabecalho.append((titulo_email, data, \"Sem anexo\", \"Sem Conteudo\"))\n",
    "\n",
    "# print(\" \")\n",
    "\n",
    "# for titulo, data, anexo_titulo, anexo_conteudo in lista_cabecalho:\n",
    "    # print(f\"{titulo} - {data} - {anexo_titulo}\")\n",
    "\n"
   ]
  },
  {
   "cell_type": "markdown",
   "metadata": {},
   "source": [
    "#### Transforma vetor em Pandas"
   ]
  },
  {
   "cell_type": "code",
   "execution_count": 369,
   "metadata": {},
   "outputs": [
    {
     "data": {
      "text/html": [
       "<div>\n",
       "<style scoped>\n",
       "    .dataframe tbody tr th:only-of-type {\n",
       "        vertical-align: middle;\n",
       "    }\n",
       "\n",
       "    .dataframe tbody tr th {\n",
       "        vertical-align: top;\n",
       "    }\n",
       "\n",
       "    .dataframe thead th {\n",
       "        text-align: right;\n",
       "    }\n",
       "</style>\n",
       "<table border=\"1\" class=\"dataframe\">\n",
       "  <thead>\n",
       "    <tr style=\"text-align: right;\">\n",
       "      <th></th>\n",
       "      <th>Titulo</th>\n",
       "      <th>Data</th>\n",
       "      <th>Anexo</th>\n",
       "    </tr>\n",
       "  </thead>\n",
       "  <tbody>\n",
       "    <tr>\n",
       "      <th>3</th>\n",
       "      <td>Teste Python 3</td>\n",
       "      <td>17-08-2024</td>\n",
       "      <td>1_worksheet.xlsx</td>\n",
       "    </tr>\n",
       "    <tr>\n",
       "      <th>4</th>\n",
       "      <td>Teste Python 3</td>\n",
       "      <td>17-08-2024</td>\n",
       "      <td>2_worksheet.xlsx</td>\n",
       "    </tr>\n",
       "    <tr>\n",
       "      <th>2</th>\n",
       "      <td>Teste Python 2</td>\n",
       "      <td>17-08-2024</td>\n",
       "      <td>2_worksheet.xlsx</td>\n",
       "    </tr>\n",
       "    <tr>\n",
       "      <th>1</th>\n",
       "      <td>Teste Python 1</td>\n",
       "      <td>17-08-2024</td>\n",
       "      <td>1_worksheet.xlsx</td>\n",
       "    </tr>\n",
       "    <tr>\n",
       "      <th>0</th>\n",
       "      <td>Teste Python</td>\n",
       "      <td>17-08-2024</td>\n",
       "      <td>Sem anexo</td>\n",
       "    </tr>\n",
       "  </tbody>\n",
       "</table>\n",
       "</div>"
      ],
      "text/plain": [
       "           Titulo        Data             Anexo\n",
       "3  Teste Python 3  17-08-2024  1_worksheet.xlsx\n",
       "4  Teste Python 3  17-08-2024  2_worksheet.xlsx\n",
       "2  Teste Python 2  17-08-2024  2_worksheet.xlsx\n",
       "1  Teste Python 1  17-08-2024  1_worksheet.xlsx\n",
       "0    Teste Python  17-08-2024         Sem anexo"
      ]
     },
     "execution_count": 369,
     "metadata": {},
     "output_type": "execute_result"
    }
   ],
   "source": [
    "title = ['Titulo','Data','Anexo','Conteúdo']\n",
    "\n",
    "resultado = df(lista_cabecalho, columns=title, index=None)\n",
    "resultado = resultado.astype({'Titulo': 'object', 'Data': 'datetime64', 'Anexo': 'string'})\n",
    "resultado = resultado.sort_values(by='Data',ascending=False)\n",
    "resultado['Data'] = resultado['Data'].dt.strftime('%d-%m-%Y')\n",
    "\n",
    "resultado.iloc[:, :-1]"
   ]
  },
  {
   "cell_type": "markdown",
   "metadata": {},
   "source": [
    "#### Usuário escolhe o arquivo "
   ]
  },
  {
   "cell_type": "code",
   "execution_count": 370,
   "metadata": {},
   "outputs": [
    {
     "name": "stdout",
     "output_type": "stream",
     "text": [
      "3\n"
     ]
    }
   ],
   "source": [
    "email_escolhido = int(input(\"Digite o código do email escolhido: \"))\n",
    "\n",
    "if 0 <= email_escolhido < len(lista_cabecalho):\n",
    "    print(email_escolhido)\n",
    "    anexo_escolhido = lista_cabecalho[email_escolhido][3]"
   ]
  },
  {
   "cell_type": "markdown",
   "metadata": {},
   "source": [
    "#### Transforma conteúdo byte do Anexo em Pandas"
   ]
  },
  {
   "cell_type": "code",
   "execution_count": 371,
   "metadata": {},
   "outputs": [
    {
     "data": {
      "text/html": [
       "<div>\n",
       "<style scoped>\n",
       "    .dataframe tbody tr th:only-of-type {\n",
       "        vertical-align: middle;\n",
       "    }\n",
       "\n",
       "    .dataframe tbody tr th {\n",
       "        vertical-align: top;\n",
       "    }\n",
       "\n",
       "    .dataframe thead th {\n",
       "        text-align: right;\n",
       "    }\n",
       "</style>\n",
       "<table border=\"1\" class=\"dataframe\">\n",
       "  <thead>\n",
       "    <tr style=\"text-align: right;\">\n",
       "      <th></th>\n",
       "      <th>ID</th>\n",
       "      <th>NOME</th>\n",
       "      <th>QUANTIDADE</th>\n",
       "      <th>ASDAD</th>\n",
       "      <th>ASDASD</th>\n",
       "      <th>ASDASD.1</th>\n",
       "      <th>PERIODO</th>\n",
       "      <th>ASDSAD</th>\n",
       "    </tr>\n",
       "  </thead>\n",
       "  <tbody>\n",
       "    <tr>\n",
       "      <th>0</th>\n",
       "      <td>1</td>\n",
       "      <td>CAIO</td>\n",
       "      <td>5</td>\n",
       "      <td>asdsd</td>\n",
       "      <td>asdsad</td>\n",
       "      <td>asdsad</td>\n",
       "      <td>JUNHO</td>\n",
       "      <td>asdsad</td>\n",
       "    </tr>\n",
       "    <tr>\n",
       "      <th>1</th>\n",
       "      <td>2</td>\n",
       "      <td>BUSSCAR</td>\n",
       "      <td>3</td>\n",
       "      <td>asdasd</td>\n",
       "      <td>asdsad</td>\n",
       "      <td>asdasd</td>\n",
       "      <td>JUNHO</td>\n",
       "      <td>asdasd</td>\n",
       "    </tr>\n",
       "    <tr>\n",
       "      <th>2</th>\n",
       "      <td>3</td>\n",
       "      <td>FIBERBUS</td>\n",
       "      <td>5</td>\n",
       "      <td>asdsad</td>\n",
       "      <td>asdsad</td>\n",
       "      <td>asdsad</td>\n",
       "      <td>JUNHO</td>\n",
       "      <td>asdsad</td>\n",
       "    </tr>\n",
       "    <tr>\n",
       "      <th>3</th>\n",
       "      <td>4</td>\n",
       "      <td>COOPERBUS</td>\n",
       "      <td>1</td>\n",
       "      <td>asdsad</td>\n",
       "      <td>asdsad</td>\n",
       "      <td>asdsad</td>\n",
       "      <td>JUNHO</td>\n",
       "      <td>asdasd</td>\n",
       "    </tr>\n",
       "    <tr>\n",
       "      <th>4</th>\n",
       "      <td>5</td>\n",
       "      <td>INBRASP</td>\n",
       "      <td>9</td>\n",
       "      <td>asddsa</td>\n",
       "      <td>asdasd</td>\n",
       "      <td>assda</td>\n",
       "      <td>JUNHO</td>\n",
       "      <td>asdsad</td>\n",
       "    </tr>\n",
       "  </tbody>\n",
       "</table>\n",
       "</div>"
      ],
      "text/plain": [
       "   ID       NOME  QUANTIDADE   ASDAD  ASDASD ASDASD.1 PERIODO  ASDSAD\n",
       "0   1       CAIO           5   asdsd  asdsad   asdsad   JUNHO  asdsad\n",
       "1   2    BUSSCAR           3  asdasd  asdsad   asdasd   JUNHO  asdasd\n",
       "2   3   FIBERBUS           5  asdsad  asdsad   asdsad   JUNHO  asdsad\n",
       "3   4  COOPERBUS           1  asdsad  asdsad   asdsad   JUNHO  asdasd\n",
       "4   5    INBRASP           9  asddsa  asdasd    assda   JUNHO  asdsad"
      ]
     },
     "execution_count": 371,
     "metadata": {},
     "output_type": "execute_result"
    }
   ],
   "source": [
    "dados_em_bytes = anexo_escolhido\n",
    "buffer = BytesIO(dados_em_bytes)\n",
    "planilha_anexo = pd.read_excel(buffer)"
   ]
  },
  {
   "cell_type": "markdown",
   "metadata": {},
   "source": [
    "#### Edita a planilha"
   ]
  },
  {
   "cell_type": "code",
   "execution_count": 372,
   "metadata": {},
   "outputs": [
    {
     "data": {
      "text/html": [
       "<div>\n",
       "<style scoped>\n",
       "    .dataframe tbody tr th:only-of-type {\n",
       "        vertical-align: middle;\n",
       "    }\n",
       "\n",
       "    .dataframe tbody tr th {\n",
       "        vertical-align: top;\n",
       "    }\n",
       "\n",
       "    .dataframe thead th {\n",
       "        text-align: right;\n",
       "    }\n",
       "</style>\n",
       "<table border=\"1\" class=\"dataframe\">\n",
       "  <thead>\n",
       "    <tr style=\"text-align: right;\">\n",
       "      <th></th>\n",
       "      <th>ID</th>\n",
       "      <th>NOME</th>\n",
       "      <th>QUANTIDADE</th>\n",
       "      <th>PERIODO</th>\n",
       "    </tr>\n",
       "  </thead>\n",
       "  <tbody>\n",
       "    <tr>\n",
       "      <th>0</th>\n",
       "      <td>1</td>\n",
       "      <td>CAIO</td>\n",
       "      <td>5</td>\n",
       "      <td>JUNHO</td>\n",
       "    </tr>\n",
       "    <tr>\n",
       "      <th>1</th>\n",
       "      <td>2</td>\n",
       "      <td>BUSSCAR</td>\n",
       "      <td>3</td>\n",
       "      <td>JUNHO</td>\n",
       "    </tr>\n",
       "    <tr>\n",
       "      <th>2</th>\n",
       "      <td>3</td>\n",
       "      <td>FIBERBUS</td>\n",
       "      <td>5</td>\n",
       "      <td>JUNHO</td>\n",
       "    </tr>\n",
       "    <tr>\n",
       "      <th>3</th>\n",
       "      <td>4</td>\n",
       "      <td>COOPERBUS</td>\n",
       "      <td>1</td>\n",
       "      <td>JUNHO</td>\n",
       "    </tr>\n",
       "    <tr>\n",
       "      <th>4</th>\n",
       "      <td>5</td>\n",
       "      <td>INBRASP</td>\n",
       "      <td>9</td>\n",
       "      <td>JUNHO</td>\n",
       "    </tr>\n",
       "  </tbody>\n",
       "</table>\n",
       "</div>"
      ],
      "text/plain": [
       "   ID       NOME  QUANTIDADE PERIODO\n",
       "0   1       CAIO           5   JUNHO\n",
       "1   2    BUSSCAR           3   JUNHO\n",
       "2   3   FIBERBUS           5   JUNHO\n",
       "3   4  COOPERBUS           1   JUNHO\n",
       "4   5    INBRASP           9   JUNHO"
      ]
     },
     "execution_count": 372,
     "metadata": {},
     "output_type": "execute_result"
    }
   ],
   "source": [
    "planilha_anexo_modificado = planilha_anexo.drop(['ASDAD','ASDASD','ASDASD.1','ASDSAD'], axis=1)\n",
    "planilha_anexo_modificado"
   ]
  },
  {
   "cell_type": "markdown",
   "metadata": {},
   "source": [
    "#### Cria arquivo Excel"
   ]
  },
  {
   "cell_type": "code",
   "execution_count": 373,
   "metadata": {},
   "outputs": [],
   "source": [
    "data_atual = datetime.now()\n",
    "data_atual = data_atual.strftime('%d-%m-%Y')\n",
    "arquivo_nome = f'arquivo{data_atual}.xlsx'\n",
    "\n",
    "# Caminho para salvar o arquivo Excel\n",
    "caminho_arquivo = f'C:\\\\GitHub\\Automacao_Email_Python\\\\{arquivo_nome}'  # Substitua com o caminho real\n",
    "\n",
    "# Salvar o DataFrame em um arquivo Excel\n",
    "planilha_anexo_modificado.to_excel(caminho_arquivo, index=False)"
   ]
  },
  {
   "cell_type": "markdown",
   "metadata": {},
   "source": [
    "# Enviar E-mail (Gmail)"
   ]
  },
  {
   "cell_type": "code",
   "execution_count": 374,
   "metadata": {},
   "outputs": [],
   "source": [
    "import smtplib\n",
    "from email.mime.multipart import MIMEMultipart\n",
    "from email.mime.text import MIMEText\n",
    "from email.mime.application import MIMEApplication"
   ]
  },
  {
   "cell_type": "markdown",
   "metadata": {},
   "source": [
    "#### Enviar E-mail com Anexo"
   ]
  },
  {
   "cell_type": "code",
   "execution_count": 377,
   "metadata": {},
   "outputs": [],
   "source": [
    "destinos = input(\"Digite o Email que será enviado: \")\n",
    "\n",
    "def enviar_email():\n",
    "    # Configurações do e-mail\n",
    "    corpo_email = \"\"\"\n",
    "    <p>Email enviado automaticamente usando <b>Python</b></p>\n",
    "    <p>Contém <b>Anexo</b></p>\n",
    "    \"\"\"\n",
    "    \n",
    "    # Criar mensagem multipart\n",
    "    msg = MIMEMultipart()\n",
    "    msg['Subject'] = 'Email Automático usando Python'\n",
    "    msg['From'] = usuario\n",
    "    msg['To'] = destinos\n",
    "    # msg['To'] = 'brunacamsilva@gmail.com'\n",
    "\n",
    "    # Corpo do e-mail\n",
    "    msg.attach(MIMEText(corpo_email, 'html'))\n",
    "    \n",
    "    with open(caminho_arquivo, 'rb') as anexo_arquivo:\n",
    "        anexo = MIMEApplication(anexo_arquivo.read(), _subtype='xlsx')\n",
    "        anexo.add_header('Content-Disposition', 'attachment', filename=arquivo_nome)\n",
    "        msg.attach(anexo)\n",
    "\n",
    "    # Enviar o e-mail\n",
    "    with smtplib.SMTP('smtp.gmail.com', 587) as s:\n",
    "        s.starttls()\n",
    "        s.login(usuario, senha)\n",
    "        s.send_message(msg)\n",
    "    \n",
    "    print('Email Enviado')"
   ]
  },
  {
   "cell_type": "code",
   "execution_count": 378,
   "metadata": {},
   "outputs": [
    {
     "name": "stdout",
     "output_type": "stream",
     "text": [
      "Email Enviado\n"
     ]
    }
   ],
   "source": [
    "enviar_email()"
   ]
  }
 ],
 "metadata": {
  "kernelspec": {
   "display_name": "Python 3",
   "language": "python",
   "name": "python3"
  },
  "language_info": {
   "codemirror_mode": {
    "name": "ipython",
    "version": 3
   },
   "file_extension": ".py",
   "mimetype": "text/x-python",
   "name": "python",
   "nbconvert_exporter": "python",
   "pygments_lexer": "ipython3",
   "version": "3.11.4"
  }
 },
 "nbformat": 4,
 "nbformat_minor": 2
}
